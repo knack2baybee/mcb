{
 "cells": [
  {
   "cell_type": "markdown",
   "metadata": {},
   "source": [
    "## The Hodgkin-Huxley model\n",
    "The electric potential measured across the membranes of excitable cells, such as neurons or heart cells, can undergo transient changes when perturbed by external inputs. When the inputs to a neuron are sufficiently large these transient changes can regeneratively build up into a large deviation from the resting state known as an action potential. Action potentials propagate undiminished along the axon and perturb post-synaptic neurons. The Hodgkin-Huxley model is a system of differential equations that describe the generation an action potential and its propagation along the axon. We provide only a brief overview of the Hodgkin-Huxley model. A number of classic references (Dayan 2005, Johnston 1995) and the original papers by Hodgkin and Huxley (Huxley 1952) chronicle the history and the details of the model. An excellent set of MOOCS and the accompanying textbooks (Gerstner 2014, Dayan 2005) give an accessible introduction to the topic"
   ]
  },
  {
   "cell_type": "markdown",
   "metadata": {},
   "source": [
    "### What is the Hodgkin Huxley Neuron Model? \n",
    "\n",
    "The cell membrane, a 5nm thick lipid bilayer, separates the inside from the outside of the neuron. The membrane is largely impermeable to charged ions present on either side. The concentration of $\\text{Na}^{+}$ ions outside the cell is greater than its concentration inside, while $\\text{K}^{+}$ ions are relatively abundant inside compared to the outside. In addition to these there are chloride ($\\text{Cl}^{-}$), calcium ($\\text{Ca}^{2+}$) and magnesium ions ($\\text{Mg}^{+}$) that populate the cellular milieu. The differences in ionic abundances across the membrane cause a net accumulation of positive ions on one side of the membrane and negative ions on the other, and thus a potential difference across the membrane. Embedded on the membrane are ion channels that are highly selective to the ion species it lets across. In the squid axon, Hodgkin and Huxley found that there were only two types of ion channels ($\\text{Na}^{+}$ and $\\text{K}^{+}$), in addition to a non-specific leak channel. The Hodgkin-Huxley model of neurons can be understood with the help of an equivalent electrical circuit given below. The cell membrane acts as a capacitor. The total injected current ($I$) can be written as the sum of the capacitive current $I_{C}$, ionic currents $I_{Na}$ and $I_{K}$ and the leak current $I_L$.\n",
    "\n",
    "\n",
    "<img src=\"circuit.svg\" width=\"800\"/>\n",
    "\\begin{equation}\n",
    "I = I_{C}(t) + I_{Na}(t) + I_{K}(t)\n",
    "\\end{equation}\n",
    "where, \n",
    "\\begin{eqnarray}\n",
    "C_m = 1 \\mu F/cm^2 \\\\\n",
    "I_{Na} = g_{Na}(u-E_{Na})\\\\\n",
    "I_{K} = g_{k}(u-E_K)\\\\\n",
    "I_{L} = g_{L}(u-E_L)\n",
    "\\end{eqnarray}\n",
    "The equation describing the membrane potential can thus be written as follows,\n",
    "\\begin{eqnarray}\n",
    "\\label{eq:HH}\n",
    "C_m\\frac{dV}{dt}=−I_{Na}(t)−I_{K}(t)−I_{L}(t)+I(t)\n",
    "\\end{eqnarray}\n",
    "Hodgkin and Huxley discovered that the $Na$ and the $K$ channels do not act as Ohmic conductances, but are modulated by the potential across the membrane. \n",
    "Changes in potential had a nonlinear effect on flow of ionic currents. Based in their experimental results they obtained a system of differential equations that described the temporal evolution of the membrane potential in terms of changes in ionic currents (chiefly $\\text{Na}^{+}$ and $\\text{K}^{+}$). \n",
    "\n",
    "\\begin{eqnarray}\\label{d3_2}I_{Na} = g_{Na}m^3h(u−E_{Na})\\end{eqnarray}\n",
    "\\begin{eqnarray}\\label{d3_3}I_K = g_Kn^4(u−E_K)\\end{eqnarray}\n",
    "\\begin{eqnarray}\\label{d3_4}I_L = g_L(u−E_L)\\end{eqnarray}\n",
    "\n",
    "where $E_{Na}=50\\ mV$, $E_K = -95\\ mV$ and $E_L=-55\\ mV$ are the reversal potentials; $g_{Na} = 100\\ \\mu S/cm^2$, $g_K = 10\\ \\mu S/cm^2$ and $g_L = 0.15\\ \\mu S/cm^2$ are the channel conductances; and m,h, and n are gating variables that follow the dynamics given by:\n",
    "\n",
    "\\begin{eqnarray}\\label{d3_5}\\frac{dm}{dt} = - \\frac{1}{\\tau_m}(m-m_0)\\end{eqnarray}\n",
    "\\begin{eqnarray}\\label{d3_6}\\frac{dh}{dt} = - \\frac{1}{\\tau_h}(h-h_0)\\end{eqnarray}\n",
    "\\begin{eqnarray}\\label{d3_7}\\frac{dn}{dt} = - \\frac{1}{\\tau_n}(n-n_0)\\end{eqnarray}\n",
    "\n",
    "where $\\tau_m$, $\\tau_h$ and $\\tau_n$ are empirically determined voltage dependent time constants and $m_0$, $h_0$ and $n_0$ are voltage dependent asymptotic gating values.\n",
    "\n",
    "\n",
    "<img src=\"mhn.svg\" width=\"800\"/>\n",
    "\n",
    "\n",
    "Earlier, we had created a Euler numerical integrator. Recall this implementation:"
   ]
  },
  {
   "cell_type": "code",
   "execution_count": 1,
   "metadata": {},
   "outputs": [],
   "source": [
    "#import relevant modules\n",
    "import matplotlib.pyplot as plt\n",
    "import numpy as np"
   ]
  },
  {
   "cell_type": "code",
   "execution_count": 2,
   "metadata": {},
   "outputs": [],
   "source": [
    "def forward_euler_HH(y0,tmin,tmax):\n",
    "    dt = 0.005 # define timestep\n",
    "    t = np.arange(tmin,tmax,dt) # define an array for t\n",
    "    X = np.zeros([4,len(t)])\n",
    "    X[:,0]= y0.T # set initial condition\n",
    "    for i in range(1,len(t)):\n",
    "        X[:,i] = dt*dXdt(X[:,i-1],t[i])+X[:,i-1] # Euler Integration Step\n",
    "    return(t,X)"
   ]
  },
  {
   "cell_type": "markdown",
   "metadata": {},
   "source": [
    "#### Implementing the Hodgkin-Huxley neuron model\n",
    "\n",
    "The variables of the Hodgkin Huxley neuron model that are updated at each integration time step are, the membrane potential, $V$, the sodium activation gating variable, $m$, the sodium inactivation gating variable, $h$, and the potassium channel gating variable, $n$. The dynamics are given by Equations above. In the following code, we define the parameters associated with the conductances, including the formulae for $\\tau_{m}$, $\\tau_{h}$, $\\tau_{n}$ and the voltage dependent steady state values of the gating variables. \n",
    "\n",
    "##### Step 1: Defining Parameters of the Neuron "
   ]
  },
  {
   "cell_type": "code",
   "execution_count": 3,
   "metadata": {},
   "outputs": [],
   "source": [
    "C_m = 1      # Membrane Capacitance\n",
    "\n",
    "g_K = 10\n",
    "E_K = -95\n",
    "\n",
    "g_Na = 100\n",
    "E_Na = 50 \n",
    "\n",
    "g_L = 0.15\n",
    "E_L = -55"
   ]
  },
  {
   "cell_type": "markdown",
   "metadata": {},
   "source": [
    "##### Step 2: Defining functions that calculate $\\tau_m$, $\\tau_h$, $\\tau_n$, $m_0$, $h_0$, $n_0$ \n",
    "\n",
    "\n",
    "For our Hodgkin Huxley Model, we will determine the values of $\\tau_m$, $\\tau_h$, $\\tau_n$, $m_0$, $h_0$, $n_0$  by the following equations:\n",
    "\n",
    "<img src=\"eqn1.svg\" width=\"800\"/>"
   ]
  },
  {
   "cell_type": "code",
   "execution_count": 4,
   "metadata": {},
   "outputs": [],
   "source": [
    "def K_prop(V):\n",
    "    T = 22\n",
    "    phi = 3.0**((T-36.0)/10)\n",
    "    V_ = V-(-50)\n",
    "    \n",
    "    alpha_n = 0.02*(15.0 - V_)/(np.exp((15.0 - V_)/5.0) - 1.0)\n",
    "    beta_n = 0.5*np.exp((10.0 - V_)/40.0)\n",
    "    \n",
    "    t_n = 1.0/((alpha_n+beta_n)*phi)\n",
    "    n_0 = alpha_n/(alpha_n+beta_n)\n",
    "    \n",
    "    return n_0, t_n\n",
    "\n",
    "\n",
    "def Na_prop(V):\n",
    "    T = 22\n",
    "    phi = 3.0**((T-36)/10)\n",
    "    V_ = V-(-50)\n",
    "    \n",
    "    alpha_m = 0.32*(13.0 - V_)/(np.exp((13.0 - V_)/4.0) - 1.0)\n",
    "    beta_m = 0.28*(V_ - 40.0)/(np.exp((V_ - 40.0)/5.0) - 1.0)\n",
    "    \n",
    "    alpha_h = 0.128*np.exp((17.0 - V_)/18.0)\n",
    "    beta_h = 4.0/(np.exp((40.0 - V_)/5.0) + 1.0)\n",
    "    \n",
    "    t_m = 1.0/((alpha_m+beta_m)*phi)\n",
    "    t_h = 1.0/((alpha_h+beta_h)*phi)\n",
    "    \n",
    "    m_0 = alpha_m/(alpha_m+beta_m)\n",
    "    h_0 = alpha_h/(alpha_h+beta_h)\n",
    "    \n",
    "    return m_0, t_m, h_0, t_h"
   ]
  },
  {
   "cell_type": "markdown",
   "metadata": {},
   "source": [
    "##### Step 3: Defining function that calculate Neuronal currents\n",
    "\n",
    "<img src=\"eqn2.svg\" width=\"800\"/>"
   ]
  },
  {
   "cell_type": "code",
   "execution_count": 5,
   "metadata": {},
   "outputs": [],
   "source": [
    "def I_K(V, n):\n",
    "    return g_K  * np.power(n,4) * (V - E_K)\n",
    "\n",
    "def I_Na(V, m, h):\n",
    "    return g_Na * np.power(m,3) * h * (V - E_Na)\n",
    "\n",
    "def I_L(V):\n",
    "    return g_L * (V - E_L)"
   ]
  },
  {
   "cell_type": "markdown",
   "metadata": {},
   "source": [
    "##### Step 4: Define the function dX/dt where X is the State Vector"
   ]
  },
  {
   "cell_type": "code",
   "execution_count": 6,
   "metadata": {},
   "outputs": [],
   "source": [
    "def dXdt(X, t):\n",
    "    V = X[0]\n",
    "    m = X[1]\n",
    "    h = X[2]\n",
    "    n = X[3]\n",
    "    \n",
    "    dVdt = (5 - I_Na(V, m, h) - I_K(V, n) - I_L(V)) / C_m \n",
    "    # Here the current injection I_injected = 5 uA\n",
    "    \n",
    "    m0,tm,h0,th = Na_prop(V)\n",
    "    n0,tn = K_prop(V)\n",
    "\n",
    "    dmdt = - (1.0/tm)*(m-m0)\n",
    "    dhdt = - (1.0/th)*(h-h0)\n",
    "    dndt = - (1.0/tn)*(n-n0)\n",
    "\n",
    "    out = np.array([dVdt,dmdt,dhdt,dndt])\n",
    "    return out"
   ]
  },
  {
   "cell_type": "markdown",
   "metadata": {},
   "source": [
    "##### Step 5: Define Initial Condition and Integrate"
   ]
  },
  {
   "cell_type": "code",
   "execution_count": 18,
   "metadata": {},
   "outputs": [],
   "source": [
    "y0 = np.array([-71,0,0,0])\n",
    "t, X = forward_euler_HH(y0,0,100)"
   ]
  },
  {
   "cell_type": "markdown",
   "metadata": {},
   "source": [
    "##### Step 6: Plot Output"
   ]
  },
  {
   "cell_type": "code",
   "execution_count": 19,
   "metadata": {},
   "outputs": [
    {
     "data": {
      "image/png": "[encoded data removed]",
      "text/plain": [
       "<Figure size 432x288 with 1 Axes>"
      ]
     },
     "metadata": {
      "needs_background": "light"
     },
     "output_type": "display_data"
    }
   ],
   "source": [
    "plt.plot(t,X[0,:])\n",
    "plt.xlabel(\"Time (in ms)\")\n",
    "plt.ylabel(\"Voltage (in mV)\")\n",
    "plt.show()\n"
   ]
  },
  {
   "cell_type": "markdown",
   "metadata": {},
   "source": [
    "# References\n",
    "\n",
    "(<a id=\"cit-Dayan2005\" href=\"#call-Dayan2005\">Dayan and Abbott, 2005</a>) Peter Dayan and Larry F. Abbott, ``Theoretical Neuroscience - Computational and Mathematical Modeling of Neural Systems``,  2005.\n",
    "\n",
    "(<a id=\"cit-Johnston1995\" href=\"#call-Johnston1995\">Johnston and Wu, 1995</a>) D. Johnston and S. M.S. Wu, ``Foundations of cellular neurophysiology``,  1995.\n",
    "\n",
    "(<a id=\"cit-Huxley1952\" href=\"#call-Huxley1952\">Huxley and Hodgkin, 1952</a>) Huxley A. L. and Hodgkin A. F., ``Quantitative description of nerve current``, Journal of Physiology, vol. , number , pp. ,  1952.\n",
    "\n",
    "(<a id=\"cit-gerstnerMOOC\" href=\"#call-gerstnerMOOC\">MOOC</a>) , ``Neuronal dynamics``,  .  [online](https://www.edx.org/course/neuronal-dynamics)\n",
    "\n",
    "(<a id=\"cit-compneuroMOOC\" href=\"#call-compneuroMOOC\">MOOC</a>) , ``Computational Neuroscience``,  .  [online](https://www.coursera.org/learn/computational-neuroscience)\n",
    "\n",
    "(<a id=\"cit-Gerstner2014\" href=\"#call-Gerstner2014\">Gerstner, Kistler <em>et al.</em>, 2014</a>) Wulfram Gerstner, Werner M. Kistler, Richard Naud <em>et al.</em>, ``Neuronal dynamics: From single neurons to networks and models of cognition``,  2014.\n",
    "\n"
   ]
  }
 ],
 "metadata": {
  "kernelspec": {
   "display_name": "Python 3",
   "language": "python",
   "name": "python3"
  },
  "language_info": {
   "codemirror_mode": {
    "name": "ipython",
    "version": 3
   },
   "file_extension": ".py",
   "mimetype": "text/x-python",
   "name": "python",
   "nbconvert_exporter": "python",
   "pygments_lexer": "ipython3",
   "version": "3.7.7"
  },
  "latex_envs": {
   "LaTeX_envs_menu_present": true,
   "autoclose": false,
   "autocomplete": true,
   "bibliofile": "../nerveFlow.bib",
   "cite_by": "apalike",
   "current_citInitial": 1,
   "eqLabelWithNumbers": true,
   "eqNumInitial": 1,
   "hotkeys": {
    "equation": "Ctrl-E",
    "itemize": "Ctrl-I"
   },
   "labels_anchors": false,
   "latex_user_defs": false,
   "report_style_numbering": false,
   "user_envs_cfg": false
  }
 },
 "nbformat": 4,
 "nbformat_minor": 4
}
